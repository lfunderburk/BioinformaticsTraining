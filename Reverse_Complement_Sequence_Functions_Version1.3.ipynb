{
 "cells": [
  {
   "cell_type": "markdown",
   "metadata": {},
   "source": [
    "### Reverse Complement of Gene Sequence\n",
    "\n",
    "Supervisor: Dr. Cedric Chauve\n",
    "\n",
    "Author: Laura Gutierrez Funderburk\n",
    "\n",
    "Date: October 26 2017"
   ]
  },
  {
   "cell_type": "markdown",
   "metadata": {},
   "source": [
    "### Abstract\n",
    "\n",
    "In this notebook we define three functions as follows:\n",
    "\n",
    "#### Sequence Complement Function\n",
    "This function takes one value as input and outputs one value as outlined below\n",
    "\n",
    "##### Input: sequence\n",
    "##### Output: Complement of a gene sequence\n",
    "\n",
    "Where by complement we mean the algorithm takes a gene sequence and substitutes each value as follows\n",
    "\n",
    "$A \\rightarrow T$\n",
    "\n",
    "$G \\rightarrow C$\n",
    "\n",
    "$T \\rightarrow A$\n",
    "\n",
    "$C \\rightarrow G$\n",
    "\n",
    "# ___________________\n",
    "\n",
    "#### Sequence Reverse Function\n",
    "This function takes one value as input and outputs one value as outlined below\n",
    "\n",
    "##### Input: sequence\n",
    "##### Output: reverse of a gene sequence\n",
    "\n",
    "Where by reverse, we simply mean it outputs the sequence in reverse order. \n",
    "\n",
    "For example, given CTGCCA, the program will compute ACCGTC\n",
    "\n",
    "# ___________________\n",
    "\n",
    "#### Exon-Coordinate-based Sequence Partition\n",
    "This function takes three values as input and outputs one value as outlined below\n",
    "\n",
    "##### Input: FASTA file with species gene sequence, start coordinate, end coordinate\n",
    "##### Output: Segment of the gene sequence corresponding to specified coordinates\n",
    "\n",
    "So, if we are given a file with gene sequence\n",
    "\n",
    "CTGCCAGTGCATGCCACAGCTCTTCACGGGCCTTTTCAAGCTGCTCATAGCCACGTCGGACGGGCTCGTCATGGCCTTCGACCGCCGCCTGGTCGACGCGCTCCTGCTAGTGTAGGCGTTC\n",
    "\n",
    "and (start, end) coordinates (1,6) respectively, then the program will output\n",
    "\n",
    "CTGCCA\n",
    "\n"
   ]
  },
  {
   "cell_type": "code",
   "execution_count": 1,
   "metadata": {
    "collapsed": true
   },
   "outputs": [],
   "source": [
    "# for handling all related to gene Sequence \n",
    "from Bio import SeqIO"
   ]
  },
  {
   "cell_type": "code",
   "execution_count": 2,
   "metadata": {
    "collapsed": true
   },
   "outputs": [],
   "source": [
    "## FASTA file with Species sequence\n",
    "\n",
    "species_sequence = '/home/lgutierrezfunderburk/Documents/Test/45_row_gambiae_2L.fa'\n",
    "test_file = '/home/lgutierrezfunderburk/Documents/Test/seq_test.fa'"
   ]
  },
  {
   "cell_type": "code",
   "execution_count": 18,
   "metadata": {
    "collapsed": true
   },
   "outputs": [],
   "source": [
    "# Define complement function. Input is a string containing gene sequence, and output is a string containing\n",
    "# the complement of the gene sequence\n",
    "\n",
    "def complement(seq):\n",
    "    \n",
    "    \"\"\"This function takes a sequence, and computes its complement\"\"\"\n",
    "    \n",
    "    # Define a dictionary with sequence symbols as keys, and their corresponding complement symbol as dictionary value\n",
    "    complement = {'A': 'T', 'C': 'G', 'G': 'C', 'T': 'A', 'N':'N', 'a':'t', 't':'a', 'g':'c', 'c':'g', 'n':'n'} \n",
    "    \n",
    "    # We define bases as a list where each element of the list corresponds to one letter in the seq string\n",
    "    bases = list(seq) \n",
    "    \n",
    "    # For each element in the list bases, extract the corresponding complement value from dictionary, and construct\n",
    "    # a new list with the complement elements in orderly manner\n",
    "    complement_bases = [complement[base] for base in bases] \n",
    "    \n",
    "    # use join() method to join elements in complement_bases array, and return a string with the complement sequence\n",
    "    return complement_bases"
   ]
  },
  {
   "cell_type": "code",
   "execution_count": 19,
   "metadata": {
    "collapsed": true
   },
   "outputs": [],
   "source": [
    "# Function from_array_to_string() takes as input an array whose elements are strings containing one letter\n",
    "# and whose output is all elements of the array contatenated into a string\n",
    "def from_array_to_string(sequence_array):\n",
    "    \"\"\" This function will take all elements in the sequence array, and concatenate them into a single string\"\"\"\n",
    "    return ''.join(sequence_array)"
   ]
  },
  {
   "cell_type": "code",
   "execution_count": 20,
   "metadata": {
    "collapsed": true
   },
   "outputs": [],
   "source": [
    "# Define reverse function. Input is a string containing a sequence, and output is a string with the sequence\n",
    "# in reverse order\n",
    "\n",
    "def reverse(comp_seq):\n",
    "    \"\"\"This function takes a sequence, and computes the sequence in reverse order\"\"\"\n",
    "    \n",
    "    # take input, and return the sequence in reverse order\n",
    "    return comp_seq[::-1]"
   ]
  },
  {
   "cell_type": "code",
   "execution_count": 21,
   "metadata": {},
   "outputs": [],
   "source": [
    "# Define get_sequence_from_file() function. \n",
    "# This function takes as input a FASTA file, and outputs an array whose elements are the letters in the sequence\n",
    "\n",
    "def get_sequence_from_file(file_name):\n",
    "    \"\"\"This functions will read FASTA file once, and store the content of the sequence in an array\"\"\"\n",
    "    # file_name is the file containing FASTA file\n",
    "    \n",
    "    # we parse the FASTA file, and obtain the sequence in it, storing it in array \n",
    "    sequence = [seq_record.seq for seq_record in SeqIO.parse(file_name,'fasta')]\n",
    "    \n",
    "    # once we obtained the sequence, we want to store it in an array such that each element in the array\n",
    "    # is one letter from the sequence\n",
    "    return [letter for letter in sequence[0]]"
   ]
  },
  {
   "cell_type": "code",
   "execution_count": 22,
   "metadata": {
    "collapsed": true
   },
   "outputs": [],
   "source": [
    "# Define exon_coordinate_partition() a function whose input is an array containing elements of a sequence, and two\n",
    "#    coordinates: start and end exons\n",
    "#    The function will return an array containing elements in the sequence corresponding to the outlined coordinates\n",
    "#\n",
    "#  For example, if given a sequence=['a','a','g','g','c','t','a'] and the coordinates 3,6, this function\n",
    "#   will return [g','g','c','t']\n",
    "def exon_coordinate_partition(sequence, start_exon,end_exon):\n",
    "    \n",
    "    \"\"\"This function will partition our sequence as per given coordinates\"\"\"\n",
    "    \n",
    "    return sequence[start_exon - 1: end_exon]"
   ]
  },
  {
   "cell_type": "code",
   "execution_count": null,
   "metadata": {
    "collapsed": true
   },
   "outputs": [],
   "source": [
    "# Continue\n",
    "def bringing_it_all_together(species_file,start_exon,end_exon,exon_direction):\n",
    "    "
   ]
  },
  {
   "cell_type": "code",
   "execution_count": 24,
   "metadata": {},
   "outputs": [
    {
     "name": "stdout",
     "output_type": "stream",
     "text": [
      "['a', 'a', 'c', 'c', 'a', 't', 'g', 'g', 't', 'c', 'c', 'a', 'g', 'a', 'g', 't', 'a', 'c', 'a', 'c', 'a', 't', 't', 'g', 'a', 'c', 't']\n",
      "\n",
      "['t', 't', 'g', 'g', 't', 'a', 'c', 'c', 'a', 'g', 'g', 't', 'c', 't', 'c', 'a', 't', 'g', 't', 'g', 't', 'a', 'a', 'c', 't', 'g', 'a']\n",
      "\n",
      "['a', 'g', 't', 'c', 'a', 'a', 't', 'g', 't', 'g', 't', 'a', 'c', 't', 'c', 't', 'g', 'g', 'a', 'c', 'c', 'a', 't', 'g', 'g', 't', 't']\n",
      "aaccatggtccagagtacacattgact\n",
      "\n",
      "ttggtaccaggtctcatgtgtaactga\n",
      "\n",
      "agtcaatgtgtactctggaccatggtt\n",
      "['t', 't', 'g', 'g', 't', 'a', 'c', 'c', 'a', 'g', 'g', 't', 'c', 't', 'c', 'a', 't', 'g', 't', 'g', 't', 'a', 'a', 'c', 't', 'g', 'a', 'a', 'g', 't', 'c', 'a', 'a', 't', 'g', 't', 'g', 't', 'a', 'c', 't', 'c', 't', 'g', 'g', 'a', 'c', 'c', 'a', 't', 'g', 'g', 't', 't']\n"
     ]
    }
   ],
   "source": [
    "# Playing area\n",
    "\n",
    "start_exon =  1\n",
    "end_exon= 27\n",
    "test_sequence = get_sequence_from_file(test_file)\n",
    "partition_one = exon_coordinate_partition(test_sequence,start_exon,end_exon)\n",
    "complement_partition_one = complement(partition_one)\n",
    "reverse_complement_partition_one = reverse(complement_partition_one)\n",
    "print(partition_one)\n",
    "print(\"\")\n",
    "print(complement_partition_one)\n",
    "print(\"\")\n",
    "print(reverse_complement_partition_one)\n",
    "\n",
    "# What if we want to turn these into strings?\n",
    "\n",
    "string_partition_one = from_array_to_string(partition_one)\n",
    "string_complement_p_1 = from_array_to_string(complement_partition_one)\n",
    "string_reverse_comp_p1 = from_array_to_string(reverse_complement_partition_one)\n",
    "\n",
    "# Printing transformed arrays into strings\n",
    "\n",
    "print(string_partition_one)\n",
    "print(\"\")\n",
    "print(string_complement_p_1)\n",
    "print(\"\")\n",
    "print(string_reverse_comp_p1)\n",
    "\n",
    "print(complement_partition_one + reverse_complement_partition_one)"
   ]
  },
  {
   "cell_type": "code",
   "execution_count": null,
   "metadata": {},
   "outputs": [],
   "source": []
  },
  {
   "cell_type": "code",
   "execution_count": null,
   "metadata": {
    "collapsed": true
   },
   "outputs": [],
   "source": []
  }
 ],
 "metadata": {
  "kernelspec": {
   "display_name": "Python 3",
   "language": "python",
   "name": "python3"
  },
  "language_info": {
   "codemirror_mode": {
    "name": "ipython",
    "version": 3
   },
   "file_extension": ".py",
   "mimetype": "text/x-python",
   "name": "python",
   "nbconvert_exporter": "python",
   "pygments_lexer": "ipython3",
   "version": "3.6.1"
  }
 },
 "nbformat": 4,
 "nbformat_minor": 2
}
