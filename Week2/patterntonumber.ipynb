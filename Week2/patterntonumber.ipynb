{
 "cells": [
  {
   "cell_type": "raw",
   "metadata": {},
   "source": [
    "Author: Laura Gutierrez Funderburk\n",
    "Date: June 2017"
   ]
  },
  {
   "cell_type": "raw",
   "metadata": {},
   "source": [
    "In this notebook, we define functions:\n",
    "* PatternToNumber that takes a sequence as input, and output a base-4 integer that decodes the sequence.\n",
    "* NumberToPattern that takes a base-4 number, and outous a gene sequence.\n",
    "* CountingFrequencies that takes as input a gene sequence and an integer k, and counts the frequency of the k-mers in the sequence. "
   ]
  },
  {
   "cell_type": "code",
   "execution_count": 2,
   "metadata": {
    "collapsed": true
   },
   "outputs": [],
   "source": [
    "import numpy as np"
   ]
  },
  {
   "cell_type": "code",
   "execution_count": 3,
   "metadata": {
    "collapsed": true
   },
   "outputs": [],
   "source": [
    "def PatternToNumber(Pattern):\n",
    "    i = 0\n",
    "    Number = 0\n",
    "    while i<len(Pattern):\n",
    "        if Pattern[i]=='C':\n",
    "            Number = Number + 1*4**(len(Pattern)-i-1)\n",
    "        elif Pattern[i]=='G':\n",
    "            Number = Number + 2*4**(len(Pattern)-i-1)\n",
    "        elif Pattern[i]=='T':\n",
    "            Number = Number + 3*4**(len(Pattern)-i-1)\n",
    "        i += 1\n",
    "    return Number"
   ]
  },
  {
   "cell_type": "code",
   "execution_count": 4,
   "metadata": {},
   "outputs": [
    {
     "name": "stdout",
     "output_type": "stream",
     "text": [
      "26900352\n"
     ]
    }
   ],
   "source": [
    "num = PatternToNumber('ACGCGGCTCTGAAA')\n",
    "print(num)"
   ]
  },
  {
   "cell_type": "code",
   "execution_count": 5,
   "metadata": {},
   "outputs": [
    {
     "name": "stdout",
     "output_type": "stream",
     "text": [
      "(9904, 0)\n",
      "(2476, 0)\n",
      "(619, 3)\n",
      "(154, 2)\n",
      "(38, 2)\n",
      "(9, 1)\n",
      "(2, 2)\n",
      "GCGGTAA\n"
     ]
    }
   ],
   "source": [
    "string=\"\"\n",
    "index = 9904\n",
    "quotient = index\n",
    "remainder = index%4\n",
    "while quotient!=0:\n",
    "    print(quotient, remainder)\n",
    "    if remainder==0:\n",
    "        letter='A'\n",
    "    elif remainder==1:\n",
    "        letter='C'\n",
    "    elif remainder==2:\n",
    "        letter='G'\n",
    "    elif remainder==3:\n",
    "        letter='T'\n",
    "    string += letter\n",
    "    quotient = quotient/4\n",
    "    remainder = quotient%4\n",
    "reversed_str = string[::-1]\n",
    "print(reversed_str)"
   ]
  },
  {
   "cell_type": "code",
   "execution_count": 6,
   "metadata": {
    "collapsed": true
   },
   "outputs": [],
   "source": [
    "def NumberToPattern(index):\n",
    "    string =\"\"\n",
    "    quotient = index\n",
    "    remainder = index%4\n",
    "    while quotient!=0:\n",
    "        print(quotient, remainder)\n",
    "        if remainder==0:\n",
    "            letter='A'\n",
    "        elif remainder==1:\n",
    "            letter='C'\n",
    "        elif remainder==2:\n",
    "            letter='G'\n",
    "        elif remainder==3:\n",
    "            letter='T'\n",
    "        string += letter\n",
    "        quotient = quotient/4\n",
    "        remainder = quotient%4\n",
    "    reversed_str = string[::-1]\n",
    "    return reversed_str"
   ]
  },
  {
   "cell_type": "code",
   "execution_count": 7,
   "metadata": {},
   "outputs": [
    {
     "name": "stdout",
     "output_type": "stream",
     "text": [
      "(5161, 1)\n",
      "(1290, 2)\n",
      "(322, 2)\n",
      "(80, 0)\n",
      "(20, 0)\n",
      "(5, 1)\n",
      "(1, 1)\n",
      "CCAAGGC\n",
      "(7592, 0)\n",
      "(1898, 2)\n",
      "(474, 2)\n",
      "(118, 2)\n",
      "(29, 1)\n",
      "(7, 3)\n",
      "(1, 1)\n",
      "CTCGGGA\n"
     ]
    }
   ],
   "source": [
    "resu = NumberToPattern(5161)\n",
    "print(resu)\n",
    "\n",
    "resu2 = NumberToPattern(7592)\n",
    "print(resu2)"
   ]
  },
  {
   "cell_type": "code",
   "execution_count": 12,
   "metadata": {
    "collapsed": true
   },
   "outputs": [],
   "source": [
    "def ComputingFrequencies(Text,k):\n",
    "    FrequencyArray = []\n",
    "    Pattern = []\n",
    "    for i in range((4**k)):\n",
    "        FrequencyArray.append(0)\n",
    "    print(len(FrequencyArray))\n",
    "    for i in range(len(Text)-k+1):\n",
    "        Pattern.append(Text[i:i + k])\n",
    "        j = PatternToNumber(Pattern[i])\n",
    "        FrequencyArray[j] = FrequencyArray[j] + 1\n",
    "    np_FrequencyArray = np.array(FrequencyArray)\n",
    "    return np_FrequencyArray"
   ]
  },
  {
   "cell_type": "code",
   "execution_count": 13,
   "metadata": {},
   "outputs": [
    {
     "name": "stdout",
     "output_type": "stream",
     "text": [
      "16\n",
      "[0 1 0 0 0 0 0 1 0 0 0 0 0 0 1 0]\n"
     ]
    }
   ],
   "source": [
    "result = ComputingFrequencies(\"ACTG\",2)\n",
    "print(result)"
   ]
  },
  {
   "cell_type": "code",
   "execution_count": 14,
   "metadata": {},
   "outputs": [
    {
     "name": "stdout",
     "output_type": "stream",
     "text": [
      "1024\n"
     ]
    }
   ],
   "source": [
    "sample = ComputingFrequencies(\"CACTCCTGATTCCTGGGCGTCGCTCAGGCAGGCTAGTAATCGCTTAATGTTGACCTACGCAAGCAAGGCTGCGCAGAGCAGTCACCGCTAGGAGAGGACTGAGGGCGACGCATCGCTTTCCCAAAGGGGAATTTACACTGATTGAGATCGCTAGTTGGGGCTCGACCCTATTGTTTGTTAGTGAATCATGACCCTAGTGGAAGTGCACCGCCTCGTGAGCGTTTAGTACCTCGTCCCTACCTGTGGCCGCGTCAGGGGTATCGTCAGACAAAGGCACAAAGGTCTATTATTGGTATAGGCTTCTCTCTTCGACCTGCGTAACTAGATTACAAACTATTGACCTCTGCGGCCCGGAGGTCCCATTCACGGACACAGCGAGAAACGGTCATAACCATTAATTGTCTTTAACACCTAATCGGGGTACGACTTGAAACGCTGATACGACAACCGGCATGTGTTCCGTTCTAAGGCAATCCACGTTTATGCGTATGAAGTACCGAATATTGCATCTCGCGCATTTCTACGACTTCCCCCTTAGCTCCATGAGTGAACGGCTCATGAGTTCAGGTCATAACAATTTTCCTCAGGCATGTCAACTAGGCGTCCGACCATGGGTCCTTTTCATTCGCACCACCAATCCGATTTGAACTGGTGTAACTTTCTGCTATAGGTCCAGGCTTAGGAACTGTGCTCAGTCATCGAACTTTCAATTAAGTGCTGGAGGTGCAGAGAATGTGAACCTACGCGAGCTGGAAACCCCTTTCCATGAAGCTCC\",5)\n",
    "\n",
    "with open('/home/lgutierrezfunderburk/Documents/ComputingFrew.txt',\"w\") as myfile:\n",
    "    for number in sample:\n",
    "        myfile.write(\"%s \" % number)"
   ]
  }
 ],
 "metadata": {
  "kernelspec": {
   "display_name": "Python 2",
   "language": "python",
   "name": "python2"
  },
  "language_info": {
   "codemirror_mode": {
    "name": "ipython",
    "version": 2
   },
   "file_extension": ".py",
   "mimetype": "text/x-python",
   "name": "python",
   "nbconvert_exporter": "python",
   "pygments_lexer": "ipython2",
   "version": "2.7.13"
  }
 },
 "nbformat": 4,
 "nbformat_minor": 2
}
