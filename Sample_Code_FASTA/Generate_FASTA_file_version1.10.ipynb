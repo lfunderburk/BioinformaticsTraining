{
 "cells": [
  {
   "cell_type": "markdown",
   "metadata": {},
   "source": [
    "## Generate Fasta Files\n",
    "Supervisor: Dr. Cedric Chauve.\n",
    "\n",
    "Author: Laura Gutierrez Funderburk.\n",
    "\n",
    "Date: June 2017, Revised September 2017.\n"
   ]
  },
  {
   "cell_type": "markdown",
   "metadata": {},
   "source": [
    "### Abstract\n",
    "\n",
    "In this notebook, we code a function whose input is a file containing synteny results, a location where results will be stored and a column name that can either be 0 or 2, and as output returns FASTA files containing gene sequences of a specified (as given in synteny file synteny_in_i_and_n-i_species.xlsx) chromosomoe or scaffold. \n",
    "\n",
    "For example, row 1, of file synteny_in_4_and_n-4-0_species.xlsx:\n",
    "\n",
    "<img src=\"row2.png\" style=\"width: 2000px;\">\n",
    "\n",
    "From this row, the algorithm will extract species name from either the first or third column as specified. \n",
    "\n",
    "Say we pick the first column. \n",
    "\n",
    "The algorithm then extracts the word Anopheles_merus (species name), uses the associated keywork \"merus\", and uses the key word to access a pre-defined dictionary containing all the appropriate FASTA file with gene sequences for the associated gene family. \n",
    "\n",
    "Once it identifies the adequate file, the algorithm will extract a second key word containing the chromosome or scaffold. In this example, the second key word will be KI440021.\n",
    "\n",
    "With the appropriate family name and chromosome/scaffold, the program takes the gene sequence belonging to the data that matches both, and then writes a new FASTA file containing only the sequence we are interested in obtaining. \n",
    "\n",
    "\n",
    "#### Open areas of work\n",
    "\n",
    "This code should be modified so that once it extracts the appropriate FASTA file, it takes the specified coordinates within the gene sequence. The sequences will then be aligned. "
   ]
  },
  {
   "cell_type": "code",
   "execution_count": 3,
   "metadata": {
    "collapsed": true
   },
   "outputs": [],
   "source": [
    "# for pandas DataFrames\n",
    "import pandas as pd\n",
    "\n",
    "# for Sequence spliting\n",
    "from Bio import SeqIO"
   ]
  },
  {
   "cell_type": "code",
   "execution_count": 4,
   "metadata": {
    "collapsed": true
   },
   "outputs": [],
   "source": [
    "#Specify paths to results\n",
    "results =\"/media/lgutierrezfunderburk/DATA/lgutierrezfunderburk/Documents/DATA/Results/MultiAlignment_Use_with_Muscle/synteny_in_x_vs_n-x-q/synteny_in_4_and_n-4-2/synteny_in_4_and_n-4-2_species.xlsx\"\n",
    "\n",
    "#Specify where all the FASTA files are found\n",
    "path_to_FASTA = \"/media/lgutierrezfunderburk/DATA/lgutierrezfunderburk/Documents/DATA/FASTA/\"\n",
    "\n",
    "#Specify path to where the results will be written.\n",
    "path_to_F1 = \"/media/lgutierrezfunderburk/DATA/lgutierrezfunderburk/Documents/DATA/Results/MultiAlignment_Use_with_Muscle/synteny_in_x_vs_n-x-q/synteny_in_4_and_n-4-2/P_F1/\"\n",
    "path_to_F2 = \"/media/lgutierrezfunderburk/DATA/lgutierrezfunderburk/Documents/DATA/Results/MultiAlignment_Use_with_Muscle/synteny_in_x_vs_n-x-q/synteny_in_4_and_n-4-2/P_F2/\"\n"
   ]
  },
  {
   "cell_type": "code",
   "execution_count": 5,
   "metadata": {
    "collapsed": true
   },
   "outputs": [],
   "source": [
    "# Define dictionary\n",
    "the_dictionary = {'maculatus':'Anopheles-maculatus-Maculatus3_SCAFFOLDS_AmacM1.fa','epiroticus':'Anopheles-epiroticus-Epiroticus2_SCAFFOLDS.AepiE1.fa','atroparvus':'Anopheles-atroparvus-EBRO_SCAFFOLDS_AatrE1.fa','sinensis':'Anopheles-sinensis-SINENSIS_SCAFFOLDS_AsinS1.fa','melas':'Anopheles-melas-CM1001059_SCAFFOLDS_AmelC1.fa','merus':'Anopheles-merus-MAF1_SCAFFOLDS_AmerM1.fa','stephensi':('Anopheles-stephensi-SDA-500_SCAFFOLDS_AsteS1.fa','Anopheles-stephensiI-Indian_SCAFFOLDS_AsteI2.fa'),'darlingi':('Anopheles-darlingi-Coari_SCAFFOLDS_AdarC3.fa','Anopheles-darlingi-Coari_SCAFFOLDS_AdarC2.fa'),'gambiae':('Anopheles-gambiae-PEST_SCAFFOLDS_AgamP3.fa','Anopheles-gambiae-PEST_CHROMOSOMES_AgamP3.fa'),'minimus':'Anopheles-minimus-MINIMUS1_SCAFFOLDS_AminM1.fa','arabiensis':'Anopheles-arabiensis-Dongola_SCAFFOLDS_AaraD1.fa','farauti':('Anopheles-farauti-FAR1_SCAFFOLDS_AfarF1.fa'),'quadriannulatus':'Anopheles-quadriannulatus-SANGWE_SCAFFOLDS_AquaS1.fa','funestus':'Anopheles-funestus-FUMOZ_SCAFFOLDS_AfunF1.fa','dirus':'Anopheles-dirus-WRAIR2_SCAFFOLDS_AdirW1.fa','christyi':'Anopheles-christyi-ACHKN1017_SCAFFOLDS_AchrA1.fa','culicifacies':'Anopheles-culicifacies-A37_SCAFFOLDS_AculA1.fa','albimanus':'Anopheles-albimanus-STECLA_SCAFFOLDS_AalbS1.fa'}\n",
    "pd_dictionary = pd.DataFrame(the_dictionary)\n",
    "\n",
    "# Key words\n",
    "key_words= {'maculatus', 'epiroticus', 'atroparvus', 'sinensis', 'melas', 'merus', 'stephensi', \n",
    "'darlingi', 'gambiae', 'minimus', 'arabiensis', 'farauti', 'quadriannulatus', 'funestus', 'dirus', \n",
    "'christyi', 'culicifacies', 'albimanus'}"
   ]
  },
  {
   "cell_type": "code",
   "execution_count": 6,
   "metadata": {
    "collapsed": true
   },
   "outputs": [],
   "source": [
    "def extract_ID(word):\n",
    "    \n",
    "    \"\"\"Apply split twice in an extremely particular way to use the information in the file\n",
    "    synteny_in_3_and_n-3_species.xlsx\"\"\"\n",
    "    \n",
    "    stage_one = word.split('.')\n",
    "    stage_two = stage_one[1]\n",
    "    stage_three = stage_two.split(':')\n",
    "    return stage_three"
   ]
  },
  {
   "cell_type": "code",
   "execution_count": 7,
   "metadata": {
    "collapsed": true
   },
   "outputs": [],
   "source": [
    "def Generate_FASTA(name_of_file, path_to_write, column_number):\n",
    "    \n",
    "    \"\"\"This function takes as input a file containing synteny results, the path where\n",
    "    results will be written as well as column number. \n",
    "    Based on the file synteny_in_i_and_n-i_species.xlsx, column number can be either 0 or 2 \n",
    "    corresponding to F1 and F2 respectively\n",
    "    \n",
    "    Output is a fasta files: each of which contains the gene sequence of the specified \n",
    "    chromosome. One file is written per row in the synteny_in_3_and_n-3_species.xlsx file\"\"\"\n",
    "    \n",
    "    # Open file and specify length of the file\n",
    "    result_file = pd.read_excel(name_of_file, header=0)\n",
    "    length_of_file = len(result_file)\n",
    "    \n",
    "    \n",
    "    for i in range(length_of_file):\n",
    "        # This area runs through the rows in synteny_in_3_and_n-3_species.xlsx for a specified column \n",
    "        # and extracts two words: gene name key word and chromosome name\n",
    "        get_key = [word for word in key_words if word in result_file.iloc[i,column_number]]\n",
    "        get_ID = extract_ID(result_file.iloc[i,column_number])\n",
    "        identificator =zip(get_key,get_ID)\n",
    "        \n",
    "        # Store \n",
    "        # Gene name is assigned to key variable while chromosome name is assigned to ID\n",
    "        key = identificator[0][0]\n",
    "        ID = identificator[0][1]\n",
    "        \n",
    "        # Parse the sequences using the key to open the adequate FASTA file, extract the chromosome\n",
    "        # specified in the ith row, and write a FASTA file with the gene sequence of the chromosome\n",
    "        j = 0\n",
    "        short_seq_iterator = []\n",
    "        while not short_seq_iterator:\n",
    "            fasta_file = pd_dictionary[key][j]\n",
    "            input_seq_iterator = SeqIO.parse(path_to_FASTA + fasta_file, \"fasta\")\n",
    "            for record in input_seq_iterator:\n",
    "                if ID==record.id:\n",
    "                    short_seq_iterator.append(record)\n",
    "            j += 1\n",
    "        SeqIO.write(short_seq_iterator, path_to_write  + str(i) + \"_row_\" +str(key)+ \"_\"+  str(ID)  +\".fa\", \"fasta\")"
   ]
  },
  {
   "cell_type": "code",
   "execution_count": 44,
   "metadata": {
    "collapsed": true
   },
   "outputs": [],
   "source": [
    "# Sample usage\n",
    "Generate_FASTA(results,path_to_F1,0)"
   ]
  },
  {
   "cell_type": "code",
   "execution_count": 15,
   "metadata": {
    "collapsed": true
   },
   "outputs": [],
   "source": []
  },
  {
   "cell_type": "code",
   "execution_count": 11,
   "metadata": {
    "collapsed": true
   },
   "outputs": [],
   "source": []
  },
  {
   "cell_type": "code",
   "execution_count": null,
   "metadata": {
    "collapsed": true
   },
   "outputs": [],
   "source": []
  }
 ],
 "metadata": {
  "kernelspec": {
   "display_name": "Python 3",
   "language": "python",
   "name": "python3"
  },
  "language_info": {
   "codemirror_mode": {
    "name": "ipython",
    "version": 3
   },
   "file_extension": ".py",
   "mimetype": "text/x-python",
   "name": "python",
   "nbconvert_exporter": "python",
   "pygments_lexer": "ipython3",
   "version": "3.6.1"
  }
 },
 "nbformat": 4,
 "nbformat_minor": 2
}
